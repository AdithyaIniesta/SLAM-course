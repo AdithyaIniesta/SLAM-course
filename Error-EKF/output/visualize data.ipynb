{
 "cells": [
  {
   "cell_type": "code",
   "execution_count": null,
   "id": "b0dbe8c9",
   "metadata": {},
   "outputs": [],
   "source": [
    "import pandas as pd\n",
    "import numpy as np\n",
    "import os\n",
    "import matplotlib.pyplot as plt\n",
    "import matplotlib.gridspec as gridspec\n",
    "from matplotlib.pyplot import figure"
   ]
  },
  {
   "cell_type": "code",
   "execution_count": null,
   "id": "b447ff62",
   "metadata": {},
   "outputs": [],
   "source": [
    "df = pd.read_csv('output.csv', header = None)\n",
    "df = df.iloc[1: , :]\n",
    "df = df.astype(float)\n",
    "x , y = np.array(df[0]), np.array(df[1])\n",
    "n_rows= len(x)"
   ]
  },
  {
   "cell_type": "code",
   "execution_count": null,
   "id": "519db5d8",
   "metadata": {},
   "outputs": [],
   "source": [
    "sigmaxx , sigmaxy, sigmayx, sigmayy = np.array(df[2]), np.array(df[3]), np.array(df[4]), np.array(df[5])\n",
    "P_list = list()\n",
    "for i in range(n_rows):\n",
    "    P = np.array([[sigmaxx[i], sigmaxy[i]], [sigmayx[i], sigmayy[i]]])\n",
    "    P_list.append(P)"
   ]
  },
  {
   "cell_type": "code",
   "execution_count": null,
   "id": "6aee9665",
   "metadata": {},
   "outputs": [],
   "source": [
    "y = 2 * x + 3"
   ]
  },
  {
   "cell_type": "code",
   "execution_count": null,
   "id": "ebe78e2b",
   "metadata": {},
   "outputs": [],
   "source": [
    "mean_x = np.mean(x)\n",
    "std_x = np.std(x)\n",
    "mean_y = np.mean(y)\n",
    "std_y = np.std(y)\n",
    "print(\"Mean of x: \", mean_x)\n",
    "print(\"Std of x: \", std_x)\n",
    "print(\"Mean of y: \", mean_y)\n",
    "print(\"Std of y: \", std_y)"
   ]
  },
  {
   "cell_type": "code",
   "execution_count": null,
   "id": "881299c7",
   "metadata": {},
   "outputs": [],
   "source": [
    "def univariate_normal(x, mean, variance):\n",
    "    \"\"\"pdf of the univariate normal distribution.\"\"\"\n",
    "    return ((1. / np.sqrt(2 * np.pi * variance)) * \n",
    "            np.exp(-(x - mean)**2 / (2 * variance)))"
   ]
  },
  {
   "cell_type": "code",
   "execution_count": null,
   "id": "7d742cd0",
   "metadata": {},
   "outputs": [],
   "source": [
    "figure(figsize=(10, 10), dpi=100)\n",
    "gs = gridspec.GridSpec(2, 4)\n",
    "gs.update(wspace=0.5)\n",
    "\n",
    "ax1 = plt.subplot(gs[0, :2])\n",
    "\n",
    "ax1.plot(\n",
    "    univariate_normal(y, mean_y, std_y), y, 'r--',\n",
    "    label=\"$\\mathcal{N}(m1, std1)$\")\n",
    "ax1.axhline(y = mean_y, c = 'r')\n",
    "\n",
    "ax2 = plt.subplot(gs[0, 2:])\n",
    "ax2.plot(\n",
    "    x, y)\n",
    "ax2.axvline(x = mean_x, label='line at x = {}'.format(mean_x), c = 'b')\n",
    "ax2.axhline(y = mean_y, label='line at x = {}'.format(mean_y), c = 'r')\n",
    "\n",
    "ax3 = plt.subplot(gs[1, 2:])\n",
    "ax3.plot(\n",
    "    x, univariate_normal(x, mean_x, std_x), 'b--',\n",
    "    label=\"$\\mathcal{N}(-3.18, 15.26)$\")\n",
    "\n",
    "ax3.axvline(x = mean_x, c = 'b')\n",
    "\n",
    "plt.xlabel('$x$', fontsize=13)\n",
    "plt.ylabel('density: $p(x)$', fontsize=13)\n",
    "plt.legend(loc=1)\n",
    "plt.show()"
   ]
  },
  {
   "cell_type": "code",
   "execution_count": null,
   "id": "b4dd1b88",
   "metadata": {},
   "outputs": [],
   "source": [
    "from filterpy.stats import plot_covariance_ellipse"
   ]
  },
  {
   "cell_type": "code",
   "execution_count": null,
   "id": "2c3bd8a0",
   "metadata": {},
   "outputs": [],
   "source": [
    "plt.xlabel(\"Position in x direction\")\n",
    "plt.ylabel(\"Position in y direction\")\n",
    "os.chdir('./images/')\n",
    "\n",
    "def plot_points(n_points):\n",
    "    for i in range(n_points):\n",
    "        plot_covariance_ellipse(\n",
    "                    (x[i], y[i]), P_list[i], std=6,\n",
    "                    facecolor='g', alpha=0.8)\n",
    "    \n",
    "       \n",
    "    plt.plot(x, y, color='k', lw=2)\n",
    "    plt.axis('equal')\n",
    "    plt.title(\"EKF Vehicle localization\")\n",
    "    plt.show()\n",
    "    plt.savefig(str(n_points) + \".jpg\") \n",
    "\n",
    "for i in range(1):\n",
    "    plot_points(n_rows)"
   ]
  },
  {
   "cell_type": "code",
   "execution_count": null,
   "id": "f844da6a",
   "metadata": {},
   "outputs": [],
   "source": [
    "from PIL import Image\n",
    "import glob\n",
    " \n",
    "# Create the frames\n",
    "frames = []\n",
    "imgs = glob.glob(\"*.jpg\")\n",
    "for i in imgs:\n",
    "    new_frame = Image.open(i)\n",
    "    frames.append(new_frame)\n",
    " \n",
    "# Save into a GIF file that loops forever\n",
    "frames[0].save('png_to_gif.gif', format='GIF',\n",
    "               append_images=frames[0:],\n",
    "               save_all=True,\n",
    "               duration=1000, loop=0)"
   ]
  },
  {
   "cell_type": "code",
   "execution_count": null,
   "id": "d3d7d427",
   "metadata": {},
   "outputs": [],
   "source": []
  },
  {
   "cell_type": "code",
   "execution_count": null,
   "id": "ccf5291f",
   "metadata": {},
   "outputs": [],
   "source": []
  }
 ],
 "metadata": {
  "kernelspec": {
   "display_name": "Python 3",
   "language": "python",
   "name": "python3"
  },
  "language_info": {
   "codemirror_mode": {
    "name": "ipython",
    "version": 3
   },
   "file_extension": ".py",
   "mimetype": "text/x-python",
   "name": "python",
   "nbconvert_exporter": "python",
   "pygments_lexer": "ipython3",
   "version": "3.8.5"
  }
 },
 "nbformat": 4,
 "nbformat_minor": 5
}
